{
 "cells": [
  {
   "cell_type": "code",
   "execution_count": 3,
   "metadata": {},
   "outputs": [],
   "source": [
    "from unet import Unet\n",
    "from n2v import N2VConfig, N2VDataGenerator\n",
    "from os.path import join\n",
    "\n",
    "dataset_dir = r'C:\\Users\\bioimaging1\\Desktop\\Deep learning image\\actin'\n",
    "noisy_inputs = [\"actin-20x-noise1-lowsnr.tif\",\n",
    "            \"actin-confocal-lowsnr.tif\",\n",
    "            \"actin-60x-noise1-lowsnr.tif\"]         \n",
    "weights_path=\"ckpt/best\"\n",
    "file_paths = [join(dataset_dir, dataset) for dataset in noisy_inputs]\n",
    "config = N2VConfig(file_paths, RGB=False)\n",
    "predict_generator = N2VDataGenerator(config)\n",
    "unet = Unet(config)\n",
    "unet.model.load_weights(weights_path)\n",
    "unet.predict(predict_generator, save_dir=\"restored_images\")"
   ]
  }
 ],
 "metadata": {
  "interpreter": {
   "hash": "2e1fd02fffbf191c68988ff842ae3f9286f3a278218267fe09f8fbf84064bab9"
  },
  "kernelspec": {
   "display_name": "Python 3.9.7 ('mlearning')",
   "language": "python",
   "name": "python3"
  },
  "language_info": {
   "codemirror_mode": {
    "name": "ipython",
    "version": 3
   },
   "file_extension": ".py",
   "mimetype": "text/x-python",
   "name": "python",
   "nbconvert_exporter": "python",
   "pygments_lexer": "ipython3",
   "version": "3.9.7"
  },
  "orig_nbformat": 4
 },
 "nbformat": 4,
 "nbformat_minor": 2
}
