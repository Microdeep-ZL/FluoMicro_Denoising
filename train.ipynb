{
 "cells": [
  {
   "cell_type": "code",
   "execution_count": 1,
   "metadata": {},
   "outputs": [],
   "source": [
    "from unet import Unet\n",
    "from n2v import N2VConfig, N2VDataGenerator\n",
    "from os.path import join\n",
    "\n",
    "dataset_dir = r'C:\\Users\\bioimaging1\\Desktop\\Deep learning image\\actin'\n",
    "noisy_inputs = [\"actin-20x-noise1-lowsnr.tif\",\n",
    "            \"actin-confocal-lowsnr.tif\",\n",
    "            \"actin-60x-noise1-lowsnr.tif\"]\n",
    "ground_truth = [\"actin-20x-noise1-highsnr.tif\",\n",
    "            \"actin-confocal-highsnr.tif\",\n",
    "            \"actin-60x-noise1-highsnr.tif\"] \n",
    "file_paths = [join(dataset_dir, dataset) for dataset in noisy_inputs]\n",
    "ground_truth_paths = [join(dataset_dir, dataset) for dataset in ground_truth]\n",
    "config = N2VConfig(file_paths, ground_truth_paths,\n",
    "                   patch_shape=(128, 128),\n",
    "                   validation_split=0.08,\n",
    "                   patches_per_batch=32,\n",
    "                   data_augmentation=3,\n",
    "                   epochs=20)\n",
    "\n",
    "n2v_data_generator = N2VDataGenerator(config)\n",
    "unet = Unet(config, model_summary=False)"
   ]
  },
  {
   "cell_type": "code",
   "execution_count": null,
   "metadata": {},
   "outputs": [],
   "source": [
    "history = unet.train(n2v_data_generator)\n",
    "# 可以在Tensorboard查看训练损失和验证损失的变化情况\n",
    "# cmd: tensorboard --logdir tensorboard "
   ]
  },
  {
   "cell_type": "code",
   "execution_count": null,
   "metadata": {},
   "outputs": [],
   "source": [
    "# 用小数据集做实验\n",
    "file_paths = [\"D:\\Project\\FYP\\dataset_small\\\\train\\\\actin-60x-noise1-lowsnr.tif\"]\n",
    "ground_truth_paths = [\"D:\\Project\\FYP\\dataset_small\\ground_truth\\\\actin-60x-noise1-highsnr.tif\"]\n",
    "config = N2VConfig(file_paths, ground_truth_paths)\n",
    "evaluation_generator = N2VDataGenerator(config)\n",
    "result=unet.evaluate(evaluation_generator, divide=2, save_dir=\"restored_images\")"
   ]
  },
  {
   "cell_type": "code",
   "execution_count": 9,
   "metadata": {},
   "outputs": [
    {
     "name": "stdout",
     "output_type": "stream",
     "text": [
      "{'duration': 1.3, 'ssim': 0.02, 'psnr': 7.18, 'old_ssim': 16.29, 'old_psnr': 16.29}\n"
     ]
    }
   ],
   "source": [
    "print(result)"
   ]
  }
 ],
 "metadata": {
  "interpreter": {
   "hash": "b058cf24618cd82b4bbbe186945fd3628430aa4c500c2913535f002801917341"
  },
  "kernelspec": {
   "display_name": "Python 3.9.12 ('fyp')",
   "language": "python",
   "name": "python3"
  },
  "language_info": {
   "codemirror_mode": {
    "name": "ipython",
    "version": 3
   },
   "file_extension": ".py",
   "mimetype": "text/x-python",
   "name": "python",
   "nbconvert_exporter": "python",
   "pygments_lexer": "ipython3",
   "version": "3.9.7"
  },
  "orig_nbformat": 4
 },
 "nbformat": 4,
 "nbformat_minor": 2
}
