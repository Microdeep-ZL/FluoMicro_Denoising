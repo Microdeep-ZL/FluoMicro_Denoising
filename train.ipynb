{
 "cells": [
  {
   "cell_type": "code",
   "execution_count": 1,
   "metadata": {},
   "outputs": [],
   "source": [
    "from unet import Unet\n",
    "from n2v import N2VConfig, N2VDataGenerator\n",
    "from os.path import join\n",
    "\n",
    "dataset_dir = r'C:\\Users\\bioimaging1\\Desktop\\Deep learning image\\actin'\n",
    "noisy_inputs = [\"actin-20x-noise1-lowsnr.tif\",\n",
    "            \"actin-confocal-lowsnr.tif\",\n",
    "            \"actin-60x-noise1-lowsnr.tif\"]\n",
    "ground_truth = [\"actin-20x-noise1-highsnr.tif\",\n",
    "            \"actin-confocal-highsnr.tif\",\n",
    "            \"actin-60x-noise1-highsnr.tif\"] \n",
    "file_paths = [join(dataset_dir, dataset) for dataset in noisy_inputs]\n",
    "ground_truth_paths = [join(dataset_dir, dataset) for dataset in ground_truth]\n",
    "config = N2VConfig(file_paths, ground_truth_paths,\n",
    "                   patch_shape=(128, 128),\n",
    "                   validation_split=0.08,\n",
    "                   patches_per_batch=32,\n",
    "                   data_augmentation=3,\n",
    "                   epochs=20)\n",
    "\n",
    "n2v_data_generator = N2VDataGenerator(config)\n",
    "unet = Unet(config, model_summary=False)"
   ]
  },
  {
   "cell_type": "code",
   "execution_count": 2,
   "metadata": {},
   "outputs": [
    {
     "name": "stdout",
     "output_type": "stream",
     "text": [
      "------------TRAINING BEGINS-------------\n",
      "Epoch 1/20\n",
      "6568/6568 [==============================] - 2653s 402ms/step - loss: 0.0031 - val_loss: 0.0056 - lr: 0.0010\n",
      "Epoch 2/20\n",
      "6568/6568 [==============================] - 2698s 411ms/step - loss: 0.0021 - val_loss: 0.0079 - lr: 0.0010\n",
      "Epoch 3/20\n",
      "6568/6568 [==============================] - 2717s 414ms/step - loss: 0.0020 - val_loss: 0.0113 - lr: 0.0010\n",
      "Epoch 4/20\n",
      "6568/6568 [==============================] - 2711s 413ms/step - loss: 0.0019 - val_loss: 0.0118 - lr: 0.0010\n",
      "Epoch 5/20\n",
      "6568/6568 [==============================] - 2650s 403ms/step - loss: 0.0017 - val_loss: 0.0071 - lr: 3.0000e-04\n",
      "Epoch 6/20\n",
      "6568/6568 [==============================] - 2645s 403ms/step - loss: 0.0017 - val_loss: 0.0087 - lr: 3.0000e-04\n"
     ]
    }
   ],
   "source": [
    "history = unet.train(n2v_data_generator)\n",
    "# 可以在Tensorboard查看训练损失和验证损失的变化情况\n",
    "# cmd: tensorboard --logdir tensorboard "
   ]
  },
  {
   "cell_type": "code",
   "execution_count": 3,
   "metadata": {},
   "outputs": [
    {
     "name": "stdout",
     "output_type": "stream",
     "text": [
      "-----------EVALUATION BEGINS------------\n",
      "279/279 images have been processed\n"
     ]
    }
   ],
   "source": [
    "# 用小数据集做实验\n",
    "result=unet.evaluate(n2v_data_generator, divide=1, save_dir=\"restored_images_residual_connection\")"
   ]
  },
  {
   "cell_type": "code",
   "execution_count": 4,
   "metadata": {},
   "outputs": [
    {
     "name": "stdout",
     "output_type": "stream",
     "text": [
      "{'duration': 0.3, 'ssim': 0.43, 'psnr': 22.8, 'old_ssim': 0.37, 'old_psnr': 19.88}\n"
     ]
    }
   ],
   "source": [
    "print(result)"
   ]
  },
  {
   "cell_type": "code",
   "execution_count": 16,
   "metadata": {},
   "outputs": [
    {
     "data": {
      "text/plain": [
       "<matplotlib.legend.Legend at 0x1d4da75de50>"
      ]
     },
     "execution_count": 16,
     "metadata": {},
     "output_type": "execute_result"
    },
    {
     "data": {
      "image/png": "[encoded data removed]",
      "text/plain": [
       "<Figure size 432x288 with 1 Axes>"
      ]
     },
     "metadata": {
      "needs_background": "light"
     },
     "output_type": "display_data"
    }
   ],
   "source": [
    "loss=history.history['loss']\n",
    "val_loss=history.history['val_loss']\n",
    "import matplotlib.pyplot as plt\n",
    "epochs=range(len(loss))\n",
    "plt.plot(loss,label='loss')\n",
    "plt.plot(val_loss,label='val_loss')\n",
    "plt.xlabel(\"epoch\")\n",
    "plt.legend()\n"
   ]
  }
 ],
 "metadata": {
  "interpreter": {
   "hash": "b058cf24618cd82b4bbbe186945fd3628430aa4c500c2913535f002801917341"
  },
  "kernelspec": {
   "display_name": "Python 3.9.12 ('fyp')",
   "language": "python",
   "name": "python3"
  },
  "language_info": {
   "codemirror_mode": {
    "name": "ipython",
    "version": 3
   },
   "file_extension": ".py",
   "mimetype": "text/x-python",
   "name": "python",
   "nbconvert_exporter": "python",
   "pygments_lexer": "ipython3",
   "version": "3.9.7"
  },
  "orig_nbformat": 4
 },
 "nbformat": 4,
 "nbformat_minor": 2
}
