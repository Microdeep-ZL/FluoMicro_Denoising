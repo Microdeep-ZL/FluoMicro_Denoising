{
 "cells": [
  {
   "cell_type": "markdown",
   "metadata": {},
   "source": [
    "***\n",
    "Supervised training with pairs of noisy and clean images\n",
    "***"
   ]
  },
  {
   "cell_type": "code",
   "execution_count": 1,
   "metadata": {},
   "outputs": [],
   "source": [
    "from unet import Unet\n",
    "from n2v import N2VConfig, N2VDataGenerator\n",
    "import matplotlib.pyplot as plt\n",
    "import numpy as np"
   ]
  },
  {
   "cell_type": "code",
   "execution_count": 2,
   "metadata": {},
   "outputs": [],
   "source": [
    "file_path=r'C:\\Users\\bioimaging1\\Desktop\\Deep learning image\\actin\\actin-60x-noise1-lowsnr.tif'\n",
    "gt_path=r'C:\\Users\\bioimaging1\\Desktop\\Deep learning image\\actin\\actin-60x-noise1-highsnr.tif'\n",
    "unet = Unet(n_depth=3, kernel_size=5)\n",
    "config=N2VConfig([file_path],[gt_path],patch_shape=[2048,2048], patches_per_batch=1, validation_split=0.08)\n",
    "n2v_data_generator=N2VDataGenerator(config)"
   ]
  },
  {
   "cell_type": "code",
   "execution_count": null,
   "metadata": {},
   "outputs": [],
   "source": [
    "history=unet.train(n2v_data_generator, epochs=40, supervised=True)"
   ]
  },
  {
   "cell_type": "code",
   "execution_count": null,
   "metadata": {},
   "outputs": [],
   "source": [
    "result_supervised=unet.evaluate(n2v_data_generator, save_dir=\"restored_supervised\")\n",
    "ssim=np.array(result_supervised['ssim'])\n",
    "psnr=np.array(result_supervised['psnr'])\n",
    "old_ssim=np.array(result_supervised['old_ssim'])\n",
    "old_psnr=np.array(result_supervised['old_psnr'])\n",
    "print(\"For all the images\".center('-',40))\n",
    "print('duration:',result_supervised['duration'])\n",
    "print('ssim:',ssim.mean().round(2),'\\tpsnr:', psnr.mean().round(2))\n",
    "print('old_ssim:', old_ssim.mean().round(2),'\\told_psnr:', old_psnr.mean().round(2))\n",
    "\n",
    "print(\"For the first image\".center('-',40))\n",
    "print('ssim:',ssim[0].round(2),'\\tpsnr:', psnr[0].round(2))\n",
    "print('old_ssim:', old_ssim[0].round(2),'\\told_psnr:', old_psnr[0].round(2))"
   ]
  },
  {
   "cell_type": "code",
   "execution_count": null,
   "metadata": {},
   "outputs": [],
   "source": [
    "unet.model.save_weights(\"model_weights/supervised_ndepth3_kernelsize5.h5\")"
   ]
  },
  {
   "cell_type": "code",
   "execution_count": null,
   "metadata": {},
   "outputs": [],
   "source": [
    "loss=history.history['loss']\n",
    "val_loss=history.history['val_loss']\n",
    "mae=history.history['mae']\n",
    "val_mae=history.history['val_mae']\n",
    "\n",
    "epochs=range(1,1+len(loss))\n",
    "plt.figure(figsize=(14,7))\n",
    "plt.subplot(121)\n",
    "plt.plot(epochs,loss,label='mse')\n",
    "plt.plot(epochs,val_loss,label='val_mse')\n",
    "plt.xlabel(\"epoch\");plt.legend()\n",
    "plt.subplot(122)\n",
    "plt.plot(epochs,mae,label='mae')\n",
    "plt.plot(epochs,val_mae,label='val_mae')\n",
    "plt.xlabel(\"epoch\");plt.legend()\n",
    "plt.show()"
   ]
  },
  {
   "cell_type": "markdown",
   "metadata": {},
   "source": [
    "***\n",
    "Self-supervised training with only noisy images\n",
    "***"
   ]
  },
  {
   "cell_type": "code",
   "execution_count": null,
   "metadata": {},
   "outputs": [],
   "source": [
    "from unet import Unet\n",
    "from n2v import N2VConfig, N2VDataGenerator\n",
    "import matplotlib.pyplot as plt\n",
    "import numpy as np"
   ]
  },
  {
   "cell_type": "code",
   "execution_count": null,
   "metadata": {},
   "outputs": [],
   "source": [
    "file_path=r'C:\\Users\\bioimaging1\\Desktop\\Deep learning image\\actin\\actin-60x-noise1-lowsnr.tif'\n",
    "gt_path=r'C:\\Users\\bioimaging1\\Desktop\\Deep learning image\\actin\\actin-60x-noise1-highsnr.tif'\n",
    "unet = Unet(n_depth=3, kernel_size=5)\n",
    "config=N2VConfig([file_path],[gt_path],patch_shape=[256,256],patches_per_batch=32,validation_split=0.08)\n",
    "n2v_data_generator=N2VDataGenerator(config)"
   ]
  },
  {
   "cell_type": "code",
   "execution_count": null,
   "metadata": {},
   "outputs": [],
   "source": [
    "history=unet.train(n2v_data_generator, epochs=40)"
   ]
  },
  {
   "cell_type": "code",
   "execution_count": null,
   "metadata": {},
   "outputs": [],
   "source": [
    "result=unet.evaluate(n2v_data_generator, save_dir=\"restored_self_supervised\")\n",
    "ssim=np.array(result['ssim'])\n",
    "psnr=np.array(result['psnr'])\n",
    "old_ssim=np.array(result['old_ssim'])\n",
    "old_psnr=np.array(result['old_psnr'])\n",
    "print(\"For all the images\".center('-',40))\n",
    "print('duration:',result['duration'])\n",
    "print('ssim:',ssim.mean().round(2),'\\tpsnr:', psnr.mean().round(2))\n",
    "print('old_ssim:', old_ssim.mean().round(2),'\\told_psnr:', old_psnr.mean().round(2))\n",
    "\n",
    "print(\"For the first image\".center('-',40))\n",
    "print('ssim:',ssim[0].round(2),'\\tpsnr:', psnr[0].round(2))\n",
    "print('old_ssim:', old_ssim[0].round(2),'\\told_psnr:', old_psnr[0].round(2))"
   ]
  },
  {
   "cell_type": "code",
   "execution_count": null,
   "metadata": {},
   "outputs": [],
   "source": [
    "unet.model.save_weights(\"model_weights/self_supervised_ndepth3_kernelsize5.h5\")"
   ]
  },
  {
   "cell_type": "code",
   "execution_count": null,
   "metadata": {},
   "outputs": [],
   "source": [
    "loss=history.history['loss']\n",
    "val_loss=history.history['val_loss']\n",
    "\n",
    "epochs=range(1,1+len(loss))\n",
    "plt.plot(epochs,loss,label='loss')\n",
    "plt.plot(epochs,val_loss,label='val_loss')\n",
    "plt.xlabel(\"epoch\")\n",
    "plt.legend()\n",
    "plt.show()"
   ]
  },
  {
   "cell_type": "markdown",
   "metadata": {},
   "source": [
    "***\n",
    "Self-supervised training on one single image\n",
    "***"
   ]
  },
  {
   "cell_type": "code",
   "execution_count": 3,
   "metadata": {},
   "outputs": [],
   "source": [
    "from unet import Unet\n",
    "from n2v import N2VConfig, N2VDataGenerator\n",
    "from PIL import Image\n",
    "import matplotlib.pyplot as plt\n",
    "import numpy as np"
   ]
  },
  {
   "cell_type": "code",
   "execution_count": 4,
   "metadata": {},
   "outputs": [],
   "source": [
    "file_path=r'C:\\Users\\bioimaging1\\Desktop\\Deep learning image\\actin\\actin-60x-noise1-lowsnr.tif'\n",
    "gt_path=r'C:\\Users\\bioimaging1\\Desktop\\Deep learning image\\actin\\actin-60x-noise1-highsnr.tif'\n",
    "with Image.open(file_path) as img,Image.open(gt_path) as gt:\n",
    "    img.save(\"singleimage.tif\")\n",
    "    gt.save(\"singleimage_gt.tif\")"
   ]
  },
  {
   "cell_type": "code",
   "execution_count": null,
   "metadata": {},
   "outputs": [],
   "source": [
    "file_path=\"singleimage.tif\"\n",
    "gt_path=\"singleimage_gt.tif\"\n",
    "unet = Unet(n_depth=3, kernel_size=5)\n",
    "config=N2VConfig([file_path],[gt_path],patch_shape=[256,256],patches_per_batch=32,validation_split=0)\n",
    "n2v_data_generator=N2VDataGenerator(config)"
   ]
  },
  {
   "cell_type": "code",
   "execution_count": null,
   "metadata": {},
   "outputs": [],
   "source": [
    "history=unet.train(n2v_data_generator, epochs=40*100)"
   ]
  },
  {
   "cell_type": "code",
   "execution_count": null,
   "metadata": {},
   "outputs": [],
   "source": [
    "result_singleimage=unet.evaluate(n2v_data_generator, save_dir=\"restored_self_supervised_singleimage\")\n",
    "ssim=np.array(result_singleimage['ssim'])\n",
    "psnr=np.array(result_singleimage['psnr'])\n",
    "old_ssim=np.array(result_singleimage['old_ssim'])\n",
    "old_psnr=np.array(result_singleimage['old_psnr'])\n",
    "print(\"For the single image\".center('-',40))\n",
    "print('duration:',result['duration'])\n",
    "print('ssim:',ssim.mean().round(2),'\\tpsnr:', psnr.mean().round(2))\n",
    "print('old_ssim:', old_ssim.mean().round(2),'\\told_psnr:', old_psnr.mean().round(2))"
   ]
  },
  {
   "cell_type": "code",
   "execution_count": null,
   "metadata": {},
   "outputs": [],
   "source": [
    "unet.model.save_weights(\"model_weights/self_supervised_ndepth3_kernelsize5_singleimage.h5\")"
   ]
  },
  {
   "cell_type": "code",
   "execution_count": null,
   "metadata": {},
   "outputs": [],
   "source": [
    "loss=history.history['loss']\n",
    "\n",
    "epochs=range(1,1+len(loss))\n",
    "plt.plot(epochs,loss,label='loss')\n",
    "plt.xlabel(\"epoch\")\n",
    "plt.legend()\n",
    "plt.show()\n"
   ]
  },
  {
   "cell_type": "markdown",
   "metadata": {},
   "source": [
    "---"
   ]
  },
  {
   "cell_type": "code",
   "execution_count": null,
   "metadata": {},
   "outputs": [],
   "source": [
    "config = N2VConfig(file_paths=[\"example.tif\"],\n",
    "                   ground_truth_paths=[\"example_gt.tif\"],\n",
    "                   patch_shape=(64, 64),\n",
    "                   patches_per_batch=128,\n",
    "                   data_augmentation=True,\n",
    "                   epochs=100)\n",
    "unet = Unet(config, n_depth=2)\n"
   ]
  },
  {
   "cell_type": "code",
   "execution_count": null,
   "metadata": {},
   "outputs": [],
   "source": [
    "n2v_data_generator = N2VDataGenerator(config)\n",
    "history=unet.train(n2v_data_generator)"
   ]
  },
  {
   "cell_type": "code",
   "execution_count": null,
   "metadata": {},
   "outputs": [],
   "source": [
    "result=unet.evaluate(n2v_data_generator, divide=1, save_dir=\"restored_0\")\n",
    "ssim=np.array(result['ssim'])\n",
    "psnr=np.array(result['psnr'])\n",
    "old_ssim=np.array(result['old_ssim'])\n",
    "old_psnr=np.array(result['old_psnr'])\n",
    "print(result['duration'])\n",
    "print('ssim:',ssim.mean().round(2),'\\tpsnr:', psnr.mean().round(2))\n",
    "print('old_ssim:', old_ssim.mean().round(2),'\\told_psnr:', old_psnr.mean().round(2))"
   ]
  },
  {
   "cell_type": "code",
   "execution_count": null,
   "metadata": {},
   "outputs": [],
   "source": [
    "\n",
    "from os.path import join\n",
    "dataset_dir = r'C:\\Users\\bioimaging1\\Desktop\\Deep learning image\\actin'\n",
    "noisy_inputs = [\"actin-20x-noise1-lowsnr.tif\",\n",
    "            # \"actin-confocal-lowsnr.tif\",\n",
    "            # \"actin-60x-noise1-lowsnr.tif\",\n",
    "            # \"membrane-lowsnr.tif\",\n",
    "            # \"mito-20x-noise1-lowsnr.tif\",\n",
    "            # \"mito-60x-noise1-lowsnr.tif\",\n",
    "            # \"mito-confocal-lowsnr.tif\",\n",
    "            # \"nucleus-lowsnr.tif\",\n",
    "            # \"mito-60x-noise2-lowsnr.tif\"\n",
    "            ]\n",
    "ground_truth = [\"actin-20x-noise1-highsnr.tif\",\n",
    "            # \"actin-confocal-highsnr.tif\",\n",
    "            # \"actin-60x-noise1-highsnr.tif\",\n",
    "            # \"membrane-highsnr.tif\",\n",
    "            # \"mito-20x-noise1-highsnr.tif\",\n",
    "            # \"mito-60x-noise1-highsnr.tif\",\n",
    "            # \"mito-confocal-highsnr.tif\",\n",
    "            # \"nucleus-highsnr.tif\",\n",
    "            # \"mito-60x-noise2-highsnr.tif\"\n",
    "            ] \n",
    "file_paths = [join(dataset_dir, dataset) for dataset in noisy_inputs]\n",
    "ground_truth_paths = [join(dataset_dir, dataset) for dataset in ground_truth]\n",
    "config = N2VConfig(file_paths, ground_truth_paths,\n",
    "                   patch_shape=(128, 128),\n",
    "                   validation_split=0.1,\n",
    "                   patches_per_batch=32,\n",
    "                   data_augmentation=True,\n",
    "                   epochs=10)\n",
    "\n",
    "n2v_data_generator = N2VDataGenerator(config)\n",
    "unet = Unet(config, model_summary=False)"
   ]
  },
  {
   "cell_type": "code",
   "execution_count": null,
   "metadata": {},
   "outputs": [],
   "source": [
    "config = N2VConfig(file_paths, ground_truth_paths,\n",
    "                   patch_shape=(128, 128),\n",
    "                   validation_split=0.1,\n",
    "                   patches_per_batch=32,\n",
    "                   data_augmentation=True,\n",
    "                   epochs=20)\n",
    "\n",
    "n2v_data_generator = N2VDataGenerator(config)\n",
    "history = unet.train(n2v_data_generator, early_stopping_patience=5, reduce_lr_patience=2                                                                                )\n",
    "# 可以在Tensorboard查看训练损失和验证损失的变化情况\n",
    "# cmd: tensorboard --logdir tensorboard "
   ]
  },
  {
   "cell_type": "code",
   "execution_count": null,
   "metadata": {},
   "outputs": [],
   "source": [
    "# unet.model.load_weights(\"ckpt/best\")\n",
    "result=unet.evaluate(n2v_data_generator, divide=8, save_dir=\"restored_images_test1\")\n"
   ]
  },
  {
   "cell_type": "code",
   "execution_count": null,
   "metadata": {},
   "outputs": [],
   "source": [
    "unet.model.load_weights(\"ckpt/best\")\n",
    "result=unet.evaluate(n2v_data_generator, divide=1, save_dir=None)\n",
    "ssim=np.array(result['ssim'])\n",
    "psnr=np.array(result['psnr'])\n",
    "old_ssim=np.array(result['old_ssim'])\n",
    "old_psnr=np.array(result['old_psnr'])\n",
    "print(result['duration'])\n",
    "print('ssim:',ssim.mean(),'\\tpsnr:', psnr.mean())\n",
    "print('old_ssim:',old_ssim.mean(),'\\told_psnr:', old_psnr.mean())"
   ]
  },
  {
   "cell_type": "code",
   "execution_count": null,
   "metadata": {},
   "outputs": [],
   "source": [
    "loss=history.history['loss']\n",
    "val_loss=history.history['val_loss']\n",
    "\n",
    "epochs=range(len(loss))\n",
    "plt.plot(loss,label='loss')\n",
    "plt.plot(val_loss,label='val_loss')\n",
    "plt.xlabel(\"epoch\")\n",
    "plt.legend()\n"
   ]
  }
 ],
 "metadata": {
  "interpreter": {
   "hash": "6437da09d845744dbee420ceb17c1bdc0c7d8d4400da6c87cb9b52dfdefcb166"
  },
  "kernelspec": {
   "display_name": "Python 3.9.7 ('mlearning')",
   "language": "python",
   "name": "python3"
  },
  "language_info": {
   "codemirror_mode": {
    "name": "ipython",
    "version": 3
   },
   "file_extension": ".py",
   "mimetype": "text/x-python",
   "name": "python",
   "nbconvert_exporter": "python",
   "pygments_lexer": "ipython3",
   "version": "3.9.7"
  },
  "orig_nbformat": 4
 },
 "nbformat": 4,
 "nbformat_minor": 2
}
