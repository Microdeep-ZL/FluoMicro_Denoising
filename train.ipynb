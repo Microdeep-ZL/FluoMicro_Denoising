{
 "cells": [
  {
   "cell_type": "markdown",
   "metadata": {},
   "source": [
    "***\n",
    "Supervised training with pairs of noisy and clean images\n",
    "***"
   ]
  },
  {
   "cell_type": "code",
   "execution_count": 1,
   "metadata": {},
   "outputs": [],
   "source": [
    "from unet import Unet\n",
    "from n2v import N2VConfig, N2VDataGenerator\n",
    "import matplotlib.pyplot as plt\n",
    "import numpy as np\n",
    "import os"
   ]
  },
  {
   "cell_type": "code",
   "execution_count": 2,
   "metadata": {},
   "outputs": [],
   "source": [
    "file_path=r'C:\\Users\\bioimaging1\\Desktop\\Deep learning image\\actin\\actin-60x-noise1-lowsnr.tif'\n",
    "gt_path=r'C:\\Users\\bioimaging1\\Desktop\\Deep learning image\\actin\\actin-60x-noise1-highsnr.tif'\n",
    "unet = Unet(n_depth=3, kernel_size=5)\n",
    "config=N2VConfig([file_path],[gt_path],patch_shape=[512,512], patches_per_batch=4, validation_split=0.08)\n",
    "n2v_data_generator=N2VDataGenerator(config)"
   ]
  },
  {
   "cell_type": "code",
   "execution_count": 3,
   "metadata": {},
   "outputs": [
    {
     "name": "stdout",
     "output_type": "stream",
     "text": [
      "-------SUPERVISED TRAINING BEGINS-------\n",
      "Epoch 1/40\n",
      "368/368 [==============================] - 575s 2s/step - loss: 0.0044 - mae: 0.0262 - val_loss: 0.0116 - val_mae: 0.0760 - lr: 5.0000e-04\n",
      "Epoch 2/40\n",
      "368/368 [==============================] - 623s 2s/step - loss: 0.0010 - mae: 0.0148 - val_loss: 3.5623e-04 - val_mae: 0.0099 - lr: 5.0000e-04\n",
      "Epoch 3/40\n",
      "368/368 [==============================] - 621s 2s/step - loss: 8.1430e-04 - mae: 0.0137 - val_loss: 2.2615e-04 - val_mae: 0.0076 - lr: 5.0000e-04\n",
      "Epoch 4/40\n",
      "368/368 [==============================] - 609s 2s/step - loss: 5.9265e-04 - mae: 0.0115 - val_loss: 0.0023 - val_mae: 0.0216 - lr: 5.0000e-04\n",
      "Epoch 5/40\n",
      "368/368 [==============================] - 511s 1s/step - loss: 4.5418e-04 - mae: 0.0104 - val_loss: 2.2032e-04 - val_mae: 0.0088 - lr: 5.0000e-04\n",
      "Epoch 6/40\n",
      "368/368 [==============================] - 526s 1s/step - loss: 3.7552e-04 - mae: 0.0095 - val_loss: 2.6425e-04 - val_mae: 0.0089 - lr: 3.5000e-04\n",
      "Epoch 7/40\n",
      "368/368 [==============================] - 522s 1s/step - loss: 3.3436e-04 - mae: 0.0088 - val_loss: 2.1487e-04 - val_mae: 0.0081 - lr: 3.5000e-04\n",
      "Epoch 8/40\n",
      "368/368 [==============================] - 609s 2s/step - loss: 2.7379e-04 - mae: 0.0083 - val_loss: 2.5095e-04 - val_mae: 0.0083 - lr: 2.4500e-04\n",
      "Epoch 9/40\n",
      "368/368 [==============================] - 623s 2s/step - loss: 2.5952e-04 - mae: 0.0081 - val_loss: 2.0012e-04 - val_mae: 0.0076 - lr: 2.4500e-04\n",
      "Epoch 10/40\n",
      "368/368 [==============================] - 611s 2s/step - loss: 2.3641e-04 - mae: 0.0078 - val_loss: 2.0404e-04 - val_mae: 0.0088 - lr: 1.7150e-04\n",
      "Epoch 11/40\n",
      "368/368 [==============================] - 609s 2s/step - loss: 2.4482e-04 - mae: 0.0078 - val_loss: 3.8260e-04 - val_mae: 0.0097 - lr: 1.7150e-04\n",
      "Epoch 12/40\n",
      "368/368 [==============================] - 515s 1s/step - loss: 2.3679e-04 - mae: 0.0078 - val_loss: 1.9878e-04 - val_mae: 0.0075 - lr: 1.2005e-04\n",
      "Epoch 13/40\n",
      "368/368 [==============================] - 492s 1s/step - loss: 2.2331e-04 - mae: 0.0076 - val_loss: 1.6871e-04 - val_mae: 0.0070 - lr: 1.2005e-04\n",
      "Epoch 14/40\n",
      "368/368 [==============================] - 523s 1s/step - loss: 2.2221e-04 - mae: 0.0076 - val_loss: 1.8032e-04 - val_mae: 0.0079 - lr: 1.0000e-04\n",
      "Epoch 15/40\n",
      "368/368 [==============================] - 502s 1s/step - loss: 2.1780e-04 - mae: 0.0075 - val_loss: 2.1346e-04 - val_mae: 0.0083 - lr: 1.0000e-04\n",
      "Epoch 16/40\n",
      "368/368 [==============================] - 528s 1s/step - loss: 2.1510e-04 - mae: 0.0075 - val_loss: 1.7666e-04 - val_mae: 0.0073 - lr: 1.0000e-04\n",
      "Epoch 17/40\n",
      "368/368 [==============================] - 524s 1s/step - loss: 2.2250e-04 - mae: 0.0075 - val_loss: 1.9178e-04 - val_mae: 0.0077 - lr: 1.0000e-04\n",
      "Epoch 18/40\n",
      "368/368 [==============================] - 527s 1s/step - loss: 2.1176e-04 - mae: 0.0074 - val_loss: 2.8632e-04 - val_mae: 0.0088 - lr: 1.0000e-04\n"
     ]
    }
   ],
   "source": [
    "history=unet.train(n2v_data_generator, epochs=10, supervised=True)"
   ]
  },
  {
   "cell_type": "code",
   "execution_count": 4,
   "metadata": {},
   "outputs": [
    {
     "name": "stdout",
     "output_type": "stream",
     "text": [
      "-----------EVALUATION BEGINS------------\n",
      "100/100 images have been processed\n",
      "-----------For all the images-----------\n",
      "duration: 0.7\n",
      "ssim: 0.85 \tpsnr: 36.86\n",
      "old_ssim: 0.43 \told_psnr: 29.06\n",
      "----------For the first image-----------\n",
      "ssim: [0.92] \tpsnr: [37.11]\n",
      "old_ssim: [0.41] \told_psnr: [27.57]\n"
     ]
    }
   ],
   "source": [
    "result_supervised=unet.evaluate(n2v_data_generator, save_dir=\"restored_supervised\")\n",
    "ssim=np.array(result_supervised['ssim'])\n",
    "psnr=np.array(result_supervised['psnr'])\n",
    "old_ssim=np.array(result_supervised['old_ssim'])\n",
    "old_psnr=np.array(result_supervised['old_psnr'])\n",
    "print(\"For all the images\".center(40,'-'))\n",
    "print('duration:',result_supervised['duration'])\n",
    "print('ssim:',ssim.mean().round(2),'\\tpsnr:', psnr.mean().round(2))\n",
    "print('old_ssim:', old_ssim.mean().round(2),'\\told_psnr:', old_psnr.mean().round(2))\n",
    "\n",
    "print(\"For the first image\".center(40,'-'))\n",
    "print('ssim:',ssim[0].round(2),'\\tpsnr:', psnr[0].round(2))\n",
    "print('old_ssim:', old_ssim[0].round(2),'\\told_psnr:', old_psnr[0].round(2))"
   ]
  },
  {
   "cell_type": "code",
   "execution_count": 5,
   "metadata": {},
   "outputs": [],
   "source": [
    "#! the directory must exist\n",
    "path=\"model_weights/supervised_ndepth3_kernelsize5.h5\"\n",
    "dirpath=os.path.dirname(path)\n",
    "if not os.path.isdir(dirpath): os.makedirs(dirpath)\n",
    "unet.model.save_weights(path)"
   ]
  },
  {
   "cell_type": "code",
   "execution_count": 6,
   "metadata": {},
   "outputs": [
    {
     "data": {
      "image/png": "[encoded data removed]",
      "text/plain": [
       "<Figure size 432x288 with 2 Axes>"
      ]
     },
     "metadata": {
      "needs_background": "light"
     },
     "output_type": "display_data"
    }
   ],
   "source": [
    "loss=history.history['loss']\n",
    "val_loss=history.history['val_loss']\n",
    "mae=history.history['mae']\n",
    "val_mae=history.history['val_mae']\n",
    "\n",
    "epochs=range(1,1+len(loss))\n",
    "plt.subplot(121)\n",
    "plt.plot(epochs,loss,label='mse')\n",
    "plt.plot(epochs,val_loss,label='val_mse')\n",
    "plt.xlabel(\"epoch\");plt.legend()\n",
    "plt.subplot(122)\n",
    "plt.plot(epochs,mae,label='mae')\n",
    "plt.plot(epochs,val_mae,label='val_mae')\n",
    "plt.xlabel(\"epoch\");plt.legend()\n",
    "plt.show()"
   ]
  },
  {
   "cell_type": "markdown",
   "metadata": {},
   "source": [
    "***\n",
    "Self-supervised training with only noisy images\n",
    "***"
   ]
  },
  {
   "cell_type": "code",
   "execution_count": 7,
   "metadata": {},
   "outputs": [],
   "source": [
    "from unet import Unet\n",
    "from n2v import N2VConfig, N2VDataGenerator\n",
    "import matplotlib.pyplot as plt\n",
    "import numpy as np\n",
    "import os"
   ]
  },
  {
   "cell_type": "code",
   "execution_count": 8,
   "metadata": {},
   "outputs": [],
   "source": [
    "file_path=r'C:\\Users\\bioimaging1\\Desktop\\Deep learning image\\actin\\actin-60x-noise1-lowsnr.tif'\n",
    "gt_path=r'C:\\Users\\bioimaging1\\Desktop\\Deep learning image\\actin\\actin-60x-noise1-highsnr.tif'\n",
    "unet = Unet(n_depth=3, kernel_size=5)\n",
    "config=N2VConfig([file_path],[gt_path],patch_shape=[256,256],patches_per_batch=16,validation_split=0.08)\n",
    "n2v_data_generator=N2VDataGenerator(config)"
   ]
  },
  {
   "cell_type": "code",
   "execution_count": 9,
   "metadata": {},
   "outputs": [
    {
     "name": "stdout",
     "output_type": "stream",
     "text": [
      "----SELF-SUPERVISED TRAINING BEGINS-----\n",
      "Epoch 1/40\n",
      "368/368 [==============================] - 533s 1s/step - loss: 0.0065 - val_loss: 0.0079 - lr: 5.0000e-04\n",
      "Epoch 2/40\n",
      "368/368 [==============================] - 528s 1s/step - loss: 0.0020 - val_loss: 0.0093 - lr: 5.0000e-04\n",
      "Epoch 3/40\n",
      "368/368 [==============================] - 535s 1s/step - loss: 0.0017 - val_loss: 0.0012 - lr: 5.0000e-04\n",
      "Epoch 4/40\n",
      "368/368 [==============================] - 535s 1s/step - loss: 0.0016 - val_loss: 9.7781e-04 - lr: 5.0000e-04\n",
      "Epoch 5/40\n",
      "368/368 [==============================] - 528s 1s/step - loss: 0.0015 - val_loss: 0.0010 - lr: 5.0000e-04\n",
      "Epoch 6/40\n",
      "368/368 [==============================] - 540s 1s/step - loss: 0.0015 - val_loss: 0.0012 - lr: 5.0000e-04\n",
      "Epoch 7/40\n",
      "368/368 [==============================] - 534s 1s/step - loss: 0.0014 - val_loss: 8.7431e-04 - lr: 3.5000e-04\n",
      "Epoch 8/40\n",
      "368/368 [==============================] - 548s 1s/step - loss: 0.0014 - val_loss: 9.8178e-04 - lr: 3.5000e-04\n",
      "Epoch 9/40\n",
      "368/368 [==============================] - 550s 1s/step - loss: 0.0014 - val_loss: 0.0011 - lr: 3.5000e-04\n",
      "Epoch 10/40\n",
      "368/368 [==============================] - 558s 2s/step - loss: 0.0013 - val_loss: 9.2673e-04 - lr: 2.4500e-04\n",
      "Epoch 11/40\n",
      "368/368 [==============================] - 545s 1s/step - loss: 0.0013 - val_loss: 8.4842e-04 - lr: 2.4500e-04\n",
      "Epoch 12/40\n",
      "368/368 [==============================] - 533s 1s/step - loss: 0.0013 - val_loss: 9.0222e-04 - lr: 1.7150e-04\n",
      "Epoch 13/40\n",
      "368/368 [==============================] - 574s 2s/step - loss: 0.0013 - val_loss: 6.9605e-04 - lr: 1.7150e-04\n",
      "Epoch 14/40\n",
      "368/368 [==============================] - 539s 1s/step - loss: 0.0013 - val_loss: 9.5903e-04 - lr: 1.7150e-04\n",
      "Epoch 15/40\n",
      "368/368 [==============================] - 459s 1s/step - loss: 0.0013 - val_loss: 9.0499e-04 - lr: 1.7150e-04\n",
      "Epoch 16/40\n",
      "368/368 [==============================] - 472s 1s/step - loss: 0.0013 - val_loss: 7.5647e-04 - lr: 1.2005e-04\n",
      "Epoch 17/40\n",
      "368/368 [==============================] - 455s 1s/step - loss: 0.0013 - val_loss: 9.0226e-04 - lr: 1.2005e-04\n",
      "Epoch 18/40\n",
      "368/368 [==============================] - 456s 1s/step - loss: 0.0013 - val_loss: 8.2517e-04 - lr: 1.0000e-04\n"
     ]
    }
   ],
   "source": [
    "history=unet.train(n2v_data_generator, epochs=6)"
   ]
  },
  {
   "cell_type": "code",
   "execution_count": 14,
   "metadata": {},
   "outputs": [
    {
     "name": "stdout",
     "output_type": "stream",
     "text": [
      "-----------For all the images-----------\n",
      "duration: 0.5\n",
      "ssim: 0.72 \tpsnr: 34.44\n",
      "old_ssim: 0.43 \told_psnr: 29.06\n",
      "----------For the first image-----------\n",
      "ssim: [0.77] \tpsnr: [33.2]\n",
      "old_ssim: [0.41] \told_psnr: [27.57]\n"
     ]
    }
   ],
   "source": [
    "result=unet.evaluate(n2v_data_generator, save_dir=\"restored_self_supervised\")\n",
    "ssim=np.array(result['ssim'])\n",
    "psnr=np.array(result['psnr'])\n",
    "old_ssim=np.array(result['old_ssim'])\n",
    "old_psnr=np.array(result['old_psnr'])\n",
    "print(\"For all the images\".center(40,'-'))\n",
    "print('duration:',result['duration'])\n",
    "print('ssim:',ssim.mean().round(2),'\\tpsnr:', psnr.mean().round(2))\n",
    "print('old_ssim:', old_ssim.mean().round(2),'\\told_psnr:', old_psnr.mean().round(2))\n",
    "\n",
    "print(\"For the first image\".center(40,'-'))\n",
    "print('ssim:',ssim[0].round(2),'\\tpsnr:', psnr[0].round(2))\n",
    "print('old_ssim:', old_ssim[0].round(2),'\\told_psnr:', old_psnr[0].round(2))"
   ]
  },
  {
   "cell_type": "code",
   "execution_count": 11,
   "metadata": {},
   "outputs": [],
   "source": [
    "path=\"model_weights/self_supervised_ndepth3_kernelsize5.h5\"\n",
    "dirpath=os.path.dirname(path)\n",
    "if not os.path.isdir(dirpath): os.makedirs(dirpath)\n",
    "unet.model.save_weights(path)"
   ]
  },
  {
   "cell_type": "code",
   "execution_count": 18,
   "metadata": {},
   "outputs": [
    {
     "data": {
      "image/png": "[encoded data removed]",
      "text/plain": [
       "<Figure size 432x288 with 1 Axes>"
      ]
     },
     "metadata": {
      "needs_background": "light"
     },
     "output_type": "display_data"
    }
   ],
   "source": [
    "loss=history.history['loss']\n",
    "val_loss=history.history['val_loss']\n",
    "\n",
    "epochs=range(1,1+len(loss))\n",
    "plt.plot(epochs,loss,label='loss')\n",
    "plt.plot(epochs,val_loss,label='val_loss')\n",
    "plt.xlabel(\"epoch\")\n",
    "plt.legend()\n",
    "# plt.ylim(top=0.005)\n",
    "plt.show()"
   ]
  },
  {
   "cell_type": "markdown",
   "metadata": {},
   "source": [
    "***\n",
    "Self-supervised training on one single image\n",
    "***"
   ]
  },
  {
   "cell_type": "code",
   "execution_count": 19,
   "metadata": {},
   "outputs": [],
   "source": [
    "from unet import Unet\n",
    "from n2v import N2VConfig, N2VDataGenerator\n",
    "from PIL import Image\n",
    "import matplotlib.pyplot as plt\n",
    "import numpy as np\n",
    "import os"
   ]
  },
  {
   "cell_type": "code",
   "execution_count": 20,
   "metadata": {},
   "outputs": [],
   "source": [
    "file_path=r'C:\\Users\\bioimaging1\\Desktop\\Deep learning image\\actin\\actin-60x-noise1-lowsnr.tif'\n",
    "gt_path=r'C:\\Users\\bioimaging1\\Desktop\\Deep learning image\\actin\\actin-60x-noise1-highsnr.tif'\n",
    "with Image.open(file_path) as img,Image.open(gt_path) as gt:\n",
    "    img.save(\"singleimage.tif\")\n",
    "    gt.save(\"singleimage_gt.tif\")"
   ]
  },
  {
   "cell_type": "code",
   "execution_count": 21,
   "metadata": {},
   "outputs": [],
   "source": [
    "file_path=\"singleimage.tif\"\n",
    "gt_path=\"singleimage_gt.tif\"\n",
    "unet = Unet(n_depth=3, kernel_size=5)\n",
    "config=N2VConfig([file_path],[gt_path],patch_shape=[256,256],patches_per_batch=16,validation_split=0)\n",
    "n2v_data_generator=N2VDataGenerator(config)"
   ]
  },
  {
   "cell_type": "code",
   "execution_count": 23,
   "metadata": {},
   "outputs": [
    {
     "name": "stdout",
     "output_type": "stream",
     "text": [
      "Epoch 1/4000\n",
      "2/2 [==============================] - 7s 3s/step - loss: 0.0570 - lr: 5.0000e-04\n",
      "Epoch 2/4000\n",
      "2/2 [==============================] - 5s 3s/step - loss: 0.0234 - lr: 5.0000e-04\n",
      "Epoch 3/4000\n",
      "2/2 [==============================] - 5s 3s/step - loss: 0.0186 - lr: 5.0000e-04\n",
      "Epoch 4/4000\n",
      "2/2 [==============================] - 5s 3s/step - loss: 0.0181 - lr: 5.0000e-04\n",
      "Epoch 5/4000\n",
      "2/2 [==============================] - 5s 3s/step - loss: 0.0180 - lr: 5.0000e-04\n",
      "Epoch 6/4000\n",
      "2/2 [==============================] - 5s 3s/step - loss: 0.0177 - lr: 5.0000e-04\n",
      "Epoch 7/4000\n",
      "2/2 [==============================] - 5s 2s/step - loss: 0.0178 - lr: 5.0000e-04\n",
      "Epoch 8/4000\n",
      "2/2 [==============================] - 5s 3s/step - loss: 0.0176 - lr: 5.0000e-04\n",
      "Epoch 9/4000\n",
      "2/2 [==============================] - 5s 3s/step - loss: 0.0175 - lr: 5.0000e-04\n",
      "Epoch 10/4000\n",
      "2/2 [==============================] - 5s 3s/step - loss: 0.0171 - lr: 5.0000e-04\n",
      "Epoch 11/4000\n",
      "2/2 [==============================] - 5s 3s/step - loss: 0.0165 - lr: 5.0000e-04\n",
      "Epoch 12/4000\n",
      "2/2 [==============================] - 5s 3s/step - loss: 0.0158 - lr: 5.0000e-04\n",
      "Epoch 13/4000\n",
      "2/2 [==============================] - 5s 3s/step - loss: 0.0150 - lr: 5.0000e-04\n",
      "Epoch 14/4000\n",
      "2/2 [==============================] - 5s 3s/step - loss: 0.0142 - lr: 5.0000e-04\n",
      "Epoch 15/4000\n",
      "2/2 [==============================] - 5s 2s/step - loss: 0.0143 - lr: 5.0000e-04\n",
      "Epoch 16/4000\n",
      "2/2 [==============================] - 5s 2s/step - loss: 0.0153 - lr: 5.0000e-04\n",
      "Epoch 17/4000\n",
      "2/2 [==============================] - 5s 3s/step - loss: 0.0141 - lr: 3.5000e-04\n",
      "Epoch 18/4000\n",
      "2/2 [==============================] - 5s 3s/step - loss: 0.0138 - lr: 3.5000e-04\n",
      "Epoch 19/4000\n",
      "2/2 [==============================] - 5s 3s/step - loss: 0.0124 - lr: 3.5000e-04\n",
      "Epoch 20/4000\n",
      "2/2 [==============================] - 5s 3s/step - loss: 0.0116 - lr: 3.5000e-04\n",
      "Epoch 21/4000\n",
      "2/2 [==============================] - 5s 3s/step - loss: 0.0098 - lr: 3.5000e-04\n",
      "Epoch 22/4000\n",
      "2/2 [==============================] - 5s 3s/step - loss: 0.0085 - lr: 3.5000e-04\n",
      "Epoch 23/4000\n",
      "2/2 [==============================] - 5s 3s/step - loss: 0.0084 - lr: 3.5000e-04\n",
      "Epoch 24/4000\n",
      "2/2 [==============================] - 5s 3s/step - loss: 0.0070 - lr: 3.5000e-04\n",
      "Epoch 25/4000\n",
      "2/2 [==============================] - 5s 3s/step - loss: 0.0070 - lr: 3.5000e-04\n",
      "Epoch 26/4000\n",
      "2/2 [==============================] - 5s 3s/step - loss: 0.0056 - lr: 3.5000e-04\n",
      "Epoch 27/4000\n",
      "2/2 [==============================] - 5s 3s/step - loss: 0.0047 - lr: 3.5000e-04\n",
      "Epoch 28/4000\n",
      "2/2 [==============================] - 5s 3s/step - loss: 0.0054 - lr: 3.5000e-04\n",
      "Epoch 29/4000\n",
      "2/2 [==============================] - 5s 2s/step - loss: 0.0050 - lr: 3.5000e-04\n",
      "Epoch 30/4000\n",
      "2/2 [==============================] - 5s 3s/step - loss: 0.0035 - lr: 2.4500e-04\n",
      "Epoch 31/4000\n",
      "2/2 [==============================] - 5s 3s/step - loss: 0.0043 - lr: 2.4500e-04\n",
      "Epoch 32/4000\n",
      "2/2 [==============================] - 5s 3s/step - loss: 0.0035 - lr: 2.4500e-04\n",
      "Epoch 33/4000\n",
      "2/2 [==============================] - 5s 3s/step - loss: 0.0035 - lr: 1.7150e-04\n",
      "Epoch 34/4000\n",
      "2/2 [==============================] - 5s 3s/step - loss: 0.0037 - lr: 1.7150e-04\n",
      "Epoch 35/4000\n",
      "2/2 [==============================] - 5s 3s/step - loss: 0.0034 - lr: 1.2005e-04\n",
      "Epoch 36/4000\n",
      "2/2 [==============================] - 5s 3s/step - loss: 0.0032 - lr: 1.2005e-04\n",
      "Epoch 37/4000\n",
      "2/2 [==============================] - 5s 2s/step - loss: 0.0036 - lr: 1.2005e-04\n",
      "Epoch 38/4000\n",
      "2/2 [==============================] - 5s 3s/step - loss: 0.0034 - lr: 1.2005e-04\n",
      "Epoch 39/4000\n",
      "2/2 [==============================] - 5s 3s/step - loss: 0.0029 - lr: 1.0000e-04\n",
      "Epoch 40/4000\n",
      "2/2 [==============================] - 5s 3s/step - loss: 0.0027 - lr: 1.0000e-04\n",
      "Epoch 41/4000\n",
      "2/2 [==============================] - 5s 3s/step - loss: 0.0030 - lr: 1.0000e-04\n",
      "Epoch 42/4000\n",
      "2/2 [==============================] - 5s 2s/step - loss: 0.0032 - lr: 1.0000e-04\n",
      "Epoch 43/4000\n",
      "2/2 [==============================] - 5s 3s/step - loss: 0.0026 - lr: 1.0000e-04\n",
      "Epoch 44/4000\n",
      "2/2 [==============================] - 5s 3s/step - loss: 0.0030 - lr: 1.0000e-04\n",
      "Epoch 45/4000\n",
      "2/2 [==============================] - 5s 2s/step - loss: 0.0030 - lr: 1.0000e-04\n",
      "Epoch 46/4000\n",
      "2/2 [==============================] - 5s 2s/step - loss: 0.0028 - lr: 1.0000e-04\n",
      "Epoch 47/4000\n",
      "2/2 [==============================] - 5s 3s/step - loss: 0.0032 - lr: 1.0000e-04\n",
      "Epoch 48/4000\n",
      "2/2 [==============================] - 5s 3s/step - loss: 0.0027 - lr: 1.0000e-04\n"
     ]
    }
   ],
   "source": [
    "history=unet.train(n2v_data_generator, epochs=50)"
   ]
  },
  {
   "cell_type": "code",
   "execution_count": 24,
   "metadata": {},
   "outputs": [
    {
     "name": "stdout",
     "output_type": "stream",
     "text": [
      "-----------EVALUATION BEGINS------------\n",
      "1/1 images have been processed\n",
      "----------For the single image----------\n",
      "duration: 0.5\n",
      "ssim: 0.62 \tpsnr: 19.17\n",
      "old_ssim: 0.33 \told_psnr: 24.95\n"
     ]
    },
    {
     "name": "stderr",
     "output_type": "stream",
     "text": [
      "c:\\Projects\\Haosheng\\FluoMicro_Denoising\\unet.py:342: UserWarning: restored_self_supervised_singleimage\\singleimage_restored.tif is a low contrast image\n",
      "  io.imsave(save_path, restored)\n"
     ]
    }
   ],
   "source": [
    "result_singleimage=unet.evaluate(n2v_data_generator, save_dir=\"restored_self_supervised_singleimage\")\n",
    "ssim=np.array(result_singleimage['ssim'])\n",
    "psnr=np.array(result_singleimage['psnr'])\n",
    "old_ssim=np.array(result_singleimage['old_ssim'])\n",
    "old_psnr=np.array(result_singleimage['old_psnr'])\n",
    "print(\"For the single image\".center(40,'-'))\n",
    "print('duration:',result['duration'])\n",
    "print('ssim:',ssim.mean().round(2),'\\tpsnr:', psnr.mean().round(2))\n",
    "print('old_ssim:', old_ssim.mean().round(2),'\\told_psnr:', old_psnr.mean().round(2))"
   ]
  },
  {
   "cell_type": "code",
   "execution_count": 25,
   "metadata": {},
   "outputs": [],
   "source": [
    "path=\"model_weights/self_supervised_ndepth3_kernelsize5_singleimage.h5\"\n",
    "dirpath=os.path.dirname(path)\n",
    "if not os.path.isdir(dirpath): os.makedirs(dirpath)\n",
    "unet.model.save_weights(path)"
   ]
  },
  {
   "cell_type": "code",
   "execution_count": 26,
   "metadata": {},
   "outputs": [
    {
     "data": {
      "image/png": "[encoded data removed]",
      "text/plain": [
       "<Figure size 432x288 with 1 Axes>"
      ]
     },
     "metadata": {
      "needs_background": "light"
     },
     "output_type": "display_data"
    }
   ],
   "source": [
    "loss=history.history['loss']\n",
    "\n",
    "epochs=range(1,1+len(loss))\n",
    "plt.plot(epochs,loss,label='loss')\n",
    "plt.xlabel(\"epoch\")\n",
    "plt.legend()\n",
    "plt.show()\n"
   ]
  },
  {
   "cell_type": "markdown",
   "metadata": {},
   "source": [
    "---"
   ]
  },
  {
   "cell_type": "code",
   "execution_count": null,
   "metadata": {},
   "outputs": [],
   "source": [
    "config = N2VConfig(file_paths=[\"example.tif\"],\n",
    "                   ground_truth_paths=[\"example_gt.tif\"],\n",
    "                   patch_shape=(64, 64),\n",
    "                   patches_per_batch=128,\n",
    "                   data_augmentation=True,\n",
    "                   epochs=100)\n",
    "unet = Unet(config, n_depth=2)\n"
   ]
  },
  {
   "cell_type": "code",
   "execution_count": null,
   "metadata": {},
   "outputs": [],
   "source": [
    "n2v_data_generator = N2VDataGenerator(config)\n",
    "history=unet.train(n2v_data_generator)"
   ]
  },
  {
   "cell_type": "code",
   "execution_count": null,
   "metadata": {},
   "outputs": [],
   "source": [
    "result=unet.evaluate(n2v_data_generator, divide=1, save_dir=\"restored_0\")\n",
    "ssim=np.array(result['ssim'])\n",
    "psnr=np.array(result['psnr'])\n",
    "old_ssim=np.array(result['old_ssim'])\n",
    "old_psnr=np.array(result['old_psnr'])\n",
    "print(result['duration'])\n",
    "print('ssim:',ssim.mean().round(2),'\\tpsnr:', psnr.mean().round(2))\n",
    "print('old_ssim:', old_ssim.mean().round(2),'\\told_psnr:', old_psnr.mean().round(2))"
   ]
  },
  {
   "cell_type": "code",
   "execution_count": null,
   "metadata": {},
   "outputs": [],
   "source": [
    "\n",
    "from os.path import join\n",
    "dataset_dir = r'C:\\Users\\bioimaging1\\Desktop\\Deep learning image\\actin'\n",
    "noisy_inputs = [\"actin-20x-noise1-lowsnr.tif\",\n",
    "            # \"actin-confocal-lowsnr.tif\",\n",
    "            # \"actin-60x-noise1-lowsnr.tif\",\n",
    "            # \"membrane-lowsnr.tif\",\n",
    "            # \"mito-20x-noise1-lowsnr.tif\",\n",
    "            # \"mito-60x-noise1-lowsnr.tif\",\n",
    "            # \"mito-confocal-lowsnr.tif\",\n",
    "            # \"nucleus-lowsnr.tif\",\n",
    "            # \"mito-60x-noise2-lowsnr.tif\"\n",
    "            ]\n",
    "ground_truth = [\"actin-20x-noise1-highsnr.tif\",\n",
    "            # \"actin-confocal-highsnr.tif\",\n",
    "            # \"actin-60x-noise1-highsnr.tif\",\n",
    "            # \"membrane-highsnr.tif\",\n",
    "            # \"mito-20x-noise1-highsnr.tif\",\n",
    "            # \"mito-60x-noise1-highsnr.tif\",\n",
    "            # \"mito-confocal-highsnr.tif\",\n",
    "            # \"nucleus-highsnr.tif\",\n",
    "            # \"mito-60x-noise2-highsnr.tif\"\n",
    "            ] \n",
    "file_paths = [join(dataset_dir, dataset) for dataset in noisy_inputs]\n",
    "ground_truth_paths = [join(dataset_dir, dataset) for dataset in ground_truth]\n",
    "config = N2VConfig(file_paths, ground_truth_paths,\n",
    "                   patch_shape=(128, 128),\n",
    "                   validation_split=0.1,\n",
    "                   patches_per_batch=32,\n",
    "                   data_augmentation=True,\n",
    "                   epochs=10)\n",
    "\n",
    "n2v_data_generator = N2VDataGenerator(config)\n",
    "unet = Unet(config, model_summary=False)"
   ]
  },
  {
   "cell_type": "code",
   "execution_count": null,
   "metadata": {},
   "outputs": [],
   "source": [
    "config = N2VConfig(file_paths, ground_truth_paths,\n",
    "                   patch_shape=(128, 128),\n",
    "                   validation_split=0.1,\n",
    "                   patches_per_batch=32,\n",
    "                   data_augmentation=True,\n",
    "                   epochs=20)\n",
    "\n",
    "n2v_data_generator = N2VDataGenerator(config)\n",
    "history = unet.train(n2v_data_generator, early_stopping_patience=5, reduce_lr_patience=2                                                                                )\n",
    "# 可以在Tensorboard查看训练损失和验证损失的变化情况\n",
    "# cmd: tensorboard --logdir tensorboard "
   ]
  },
  {
   "cell_type": "code",
   "execution_count": null,
   "metadata": {},
   "outputs": [],
   "source": [
    "# unet.model.load_weights(\"ckpt/best\")\n",
    "result=unet.evaluate(n2v_data_generator, divide=8, save_dir=\"restored_images_test1\")\n"
   ]
  },
  {
   "cell_type": "code",
   "execution_count": null,
   "metadata": {},
   "outputs": [],
   "source": [
    "unet.model.load_weights(\"ckpt/best\")\n",
    "result=unet.evaluate(n2v_data_generator, divide=1, save_dir=None)\n",
    "ssim=np.array(result['ssim'])\n",
    "psnr=np.array(result['psnr'])\n",
    "old_ssim=np.array(result['old_ssim'])\n",
    "old_psnr=np.array(result['old_psnr'])\n",
    "print(result['duration'])\n",
    "print('ssim:',ssim.mean(),'\\tpsnr:', psnr.mean())\n",
    "print('old_ssim:',old_ssim.mean(),'\\told_psnr:', old_psnr.mean())"
   ]
  },
  {
   "cell_type": "code",
   "execution_count": null,
   "metadata": {},
   "outputs": [],
   "source": [
    "loss=history.history['loss']\n",
    "val_loss=history.history['val_loss']\n",
    "\n",
    "epochs=range(len(loss))\n",
    "plt.plot(loss,label='loss')\n",
    "plt.plot(val_loss,label='val_loss')\n",
    "plt.xlabel(\"epoch\")\n",
    "plt.legend()\n"
   ]
  }
 ],
 "metadata": {
  "interpreter": {
   "hash": "4e7e4f3b993680015a3734431e8353d19703600148a508f05cf2a48289d0aff2"
  },
  "kernelspec": {
   "display_name": "Python 3.9.7 ('mlearning')",
   "language": "python",
   "name": "python3"
  },
  "language_info": {
   "codemirror_mode": {
    "name": "ipython",
    "version": 3
   },
   "file_extension": ".py",
   "mimetype": "text/x-python",
   "name": "python",
   "nbconvert_exporter": "python",
   "pygments_lexer": "ipython3",
   "version": "3.9.7"
  },
  "orig_nbformat": 4
 },
 "nbformat": 4,
 "nbformat_minor": 2
}
