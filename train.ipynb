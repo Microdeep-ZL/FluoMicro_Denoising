{
 "cells": [
  {
   "cell_type": "code",
   "execution_count": null,
   "metadata": {},
   "outputs": [],
   "source": [
    "from unet import Unet\n",
    "from n2v import N2VConfig, N2VDataGenerator\n",
    "from os.path import join\n",
    "from PIL import Image\n",
    "import numpy as np"
   ]
  },
  {
   "cell_type": "code",
   "execution_count": null,
   "metadata": {},
   "outputs": [],
   "source": [
    "file_path=r'C:\\Users\\bioimaging1\\Desktop\\Deep learning image\\actin\\actin-20x-noise1-lowsnr.tif'\n",
    "with Image.open(file_path) as img:\n",
    "    img.save(\"example.tif\")"
   ]
  },
  {
   "cell_type": "code",
   "execution_count": null,
   "metadata": {},
   "outputs": [],
   "source": [
    "config = N2VConfig(file_paths=[\"example.tif\"],\n",
    "                   patch_shape=(64, 64),\n",
    "                   patches_per_batch=128,\n",
    "                   data_augmentation=True,\n",
    "                   epochs=100)\n",
    "unet=Unet(config)"
   ]
  },
  {
   "cell_type": "code",
   "execution_count": null,
   "metadata": {},
   "outputs": [],
   "source": [
    "n2v_data_generator = N2VDataGenerator(config)\n",
    "history=unet.train(n2v_data_generator)"
   ]
  },
  {
   "cell_type": "code",
   "execution_count": null,
   "metadata": {},
   "outputs": [],
   "source": [
    "result=unet.evaluate(n2v_data_generator, divide=8, save_dir=\"restored_0\")\n",
    "ssim=np.array(result['ssim'])\n",
    "psnr=np.array(result['psnr'])\n",
    "old_ssim=np.array(result['old_ssim'])\n",
    "old_psnr=np.array(result['old_psnr'])\n",
    "print(result['duration'])\n",
    "print('ssim:',ssim.mean().round(2),'\\tpsnr:', psnr.mean().round(2))\n",
    "print('old_ssim:', old_ssim.mean().round(2),'\\told_psnr:', old_psnr.mean().round(2))"
   ]
  },
  {
   "cell_type": "code",
   "execution_count": 3,
   "metadata": {},
   "outputs": [],
   "source": [
    "\n",
    "\n",
    "dataset_dir = r'C:\\Users\\bioimaging1\\Desktop\\Deep learning image\\actin'\n",
    "noisy_inputs = [\"actin-20x-noise1-lowsnr.tif\",\n",
    "            # \"actin-confocal-lowsnr.tif\",\n",
    "            # \"actin-60x-noise1-lowsnr.tif\",\n",
    "            # \"membrane-lowsnr.tif\",\n",
    "            # \"mito-20x-noise1-lowsnr.tif\",\n",
    "            # \"mito-60x-noise1-lowsnr.tif\",\n",
    "            # \"mito-confocal-lowsnr.tif\",\n",
    "            # \"nucleus-lowsnr.tif\",\n",
    "            # \"mito-60x-noise2-lowsnr.tif\"\n",
    "            ]\n",
    "ground_truth = [\"actin-20x-noise1-highsnr.tif\",\n",
    "            # \"actin-confocal-highsnr.tif\",\n",
    "            # \"actin-60x-noise1-highsnr.tif\",\n",
    "            # \"membrane-highsnr.tif\",\n",
    "            # \"mito-20x-noise1-highsnr.tif\",\n",
    "            # \"mito-60x-noise1-highsnr.tif\",\n",
    "            # \"mito-confocal-highsnr.tif\",\n",
    "            # \"nucleus-highsnr.tif\",\n",
    "            # \"mito-60x-noise2-highsnr.tif\"\n",
    "            ] \n",
    "file_paths = [join(dataset_dir, dataset) for dataset in noisy_inputs]\n",
    "ground_truth_paths = [join(dataset_dir, dataset) for dataset in ground_truth]\n",
    "config = N2VConfig(file_paths, ground_truth_paths,\n",
    "                   patch_shape=(128, 128),\n",
    "                   validation_split=0.1,\n",
    "                   patches_per_batch=32,\n",
    "                   data_augmentation=True,\n",
    "                   epochs=10)\n",
    "\n",
    "n2v_data_generator = N2VDataGenerator(config)\n",
    "unet = Unet(config, model_summary=False)"
   ]
  },
  {
   "cell_type": "code",
   "execution_count": 10,
   "metadata": {},
   "outputs": [
    {
     "name": "stdout",
     "output_type": "stream",
     "text": [
      "------------TRAINING BEGINS-------------\n",
      "Epoch 1/10\n",
      "720/720 [==============================] - 331s 460ms/step - loss: 0.0018 - val_loss: 0.0024 - lr: 5.0000e-04\n",
      "Epoch 2/10\n",
      "720/720 [==============================] - 328s 456ms/step - loss: 0.0018 - val_loss: 0.0030 - lr: 5.0000e-04\n",
      "Epoch 3/10\n",
      "720/720 [==============================] - 328s 455ms/step - loss: 0.0017 - val_loss: 0.0028 - lr: 5.0000e-04\n",
      "Epoch 4/10\n",
      "720/720 [==============================] - 325s 451ms/step - loss: 0.0016 - val_loss: 0.0023 - lr: 3.5000e-04\n",
      "Epoch 5/10\n",
      "720/720 [==============================] - 323s 448ms/step - loss: 0.0016 - val_loss: 0.0031 - lr: 3.5000e-04\n",
      "Epoch 6/10\n",
      "720/720 [==============================] - 322s 447ms/step - loss: 0.0016 - val_loss: 0.0029 - lr: 3.5000e-04\n",
      "Epoch 7/10\n",
      "720/720 [==============================] - 319s 443ms/step - loss: 0.0015 - val_loss: 0.0023 - lr: 2.4500e-04\n",
      "Epoch 8/10\n",
      "720/720 [==============================] - 321s 446ms/step - loss: 0.0015 - val_loss: 0.0022 - lr: 2.4500e-04\n",
      "Epoch 9/10\n",
      "720/720 [==============================] - 318s 442ms/step - loss: 0.0014 - val_loss: 0.0020 - lr: 1.7150e-04\n",
      "Epoch 10/10\n",
      "720/720 [==============================] - 321s 445ms/step - loss: 0.0015 - val_loss: 0.0021 - lr: 1.7150e-04\n"
     ]
    }
   ],
   "source": [
    "config = N2VConfig(file_paths, ground_truth_paths,\n",
    "                   patch_shape=(128, 128),\n",
    "                   validation_split=0.1,\n",
    "                   patches_per_batch=32,\n",
    "                   data_augmentation=True,\n",
    "                   epochs=20)\n",
    "\n",
    "n2v_data_generator = N2VDataGenerator(config)\n",
    "history = unet.train(n2v_data_generator, early_stopping_patience=5, reduce_lr_patience=2                                                                                )\n",
    "# 可以在Tensorboard查看训练损失和验证损失的变化情况\n",
    "# cmd: tensorboard --logdir tensorboard "
   ]
  },
  {
   "cell_type": "code",
   "execution_count": 13,
   "metadata": {},
   "outputs": [
    {
     "name": "stdout",
     "output_type": "stream",
     "text": [
      "-----------EVALUATION BEGINS------------\n",
      "100/100 images have been processed\n"
     ]
    }
   ],
   "source": [
    "# unet.model.load_weights(\"ckpt/best\")\n",
    "result=unet.evaluate(n2v_data_generator, divide=8, save_dir=\"restored_images_test1\")\n"
   ]
  },
  {
   "cell_type": "code",
   "execution_count": 14,
   "metadata": {},
   "outputs": [
    {
     "name": "stdout",
     "output_type": "stream",
     "text": [
      "-----------EVALUATION BEGINS------------\n",
      "4/100 images have been processed\r"
     ]
    },
    {
     "ename": "KeyboardInterrupt",
     "evalue": "",
     "output_type": "error",
     "traceback": [
      "\u001b[1;31m---------------------------------------------------------------------------\u001b[0m",
      "\u001b[1;31mKeyboardInterrupt\u001b[0m                         Traceback (most recent call last)",
      "\u001b[1;32mC:\\Users\\BIOIMA~1\\AppData\\Local\\Temp/ipykernel_13364/3046489527.py\u001b[0m in \u001b[0;36m<module>\u001b[1;34m\u001b[0m\n\u001b[0;32m      1\u001b[0m \u001b[0munet\u001b[0m\u001b[1;33m.\u001b[0m\u001b[0mmodel\u001b[0m\u001b[1;33m.\u001b[0m\u001b[0mload_weights\u001b[0m\u001b[1;33m(\u001b[0m\u001b[1;34m\"ckpt/best\"\u001b[0m\u001b[1;33m)\u001b[0m\u001b[1;33m\u001b[0m\u001b[1;33m\u001b[0m\u001b[0m\n\u001b[1;32m----> 2\u001b[1;33m \u001b[0mresult\u001b[0m\u001b[1;33m=\u001b[0m\u001b[0munet\u001b[0m\u001b[1;33m.\u001b[0m\u001b[0mevaluate\u001b[0m\u001b[1;33m(\u001b[0m\u001b[0mn2v_data_generator\u001b[0m\u001b[1;33m,\u001b[0m \u001b[0mdivide\u001b[0m\u001b[1;33m=\u001b[0m\u001b[1;36m1\u001b[0m\u001b[1;33m,\u001b[0m \u001b[0msave_dir\u001b[0m\u001b[1;33m=\u001b[0m\u001b[1;32mNone\u001b[0m\u001b[1;33m)\u001b[0m\u001b[1;33m\u001b[0m\u001b[1;33m\u001b[0m\u001b[0m\n\u001b[0m\u001b[0;32m      3\u001b[0m \u001b[0mssim\u001b[0m\u001b[1;33m=\u001b[0m\u001b[0mnp\u001b[0m\u001b[1;33m.\u001b[0m\u001b[0marray\u001b[0m\u001b[1;33m(\u001b[0m\u001b[0mresult\u001b[0m\u001b[1;33m[\u001b[0m\u001b[1;34m'ssim'\u001b[0m\u001b[1;33m]\u001b[0m\u001b[1;33m)\u001b[0m\u001b[1;33m\u001b[0m\u001b[1;33m\u001b[0m\u001b[0m\n\u001b[0;32m      4\u001b[0m \u001b[0mpsnr\u001b[0m\u001b[1;33m=\u001b[0m\u001b[0mnp\u001b[0m\u001b[1;33m.\u001b[0m\u001b[0marray\u001b[0m\u001b[1;33m(\u001b[0m\u001b[0mresult\u001b[0m\u001b[1;33m[\u001b[0m\u001b[1;34m'psnr'\u001b[0m\u001b[1;33m]\u001b[0m\u001b[1;33m)\u001b[0m\u001b[1;33m\u001b[0m\u001b[1;33m\u001b[0m\u001b[0m\n\u001b[0;32m      5\u001b[0m \u001b[0mold_ssim\u001b[0m\u001b[1;33m=\u001b[0m\u001b[0mnp\u001b[0m\u001b[1;33m.\u001b[0m\u001b[0marray\u001b[0m\u001b[1;33m(\u001b[0m\u001b[0mresult\u001b[0m\u001b[1;33m[\u001b[0m\u001b[1;34m'old_ssim'\u001b[0m\u001b[1;33m]\u001b[0m\u001b[1;33m)\u001b[0m\u001b[1;33m\u001b[0m\u001b[1;33m\u001b[0m\u001b[0m\n",
      "\u001b[1;32mc:\\Projects\\Haosheng\\FluoMicro_Denoising\\unet.py\u001b[0m in \u001b[0;36mevaluate\u001b[1;34m(self, data_generator, save_dir, divide, batch_size)\u001b[0m\n\u001b[0;32m    286\u001b[0m \u001b[1;33m\u001b[0m\u001b[0m\n\u001b[0;32m    287\u001b[0m         \u001b[0mfile_number\u001b[0m \u001b[1;33m=\u001b[0m \u001b[1;36m0\u001b[0m\u001b[1;33m\u001b[0m\u001b[1;33m\u001b[0m\u001b[0m\n\u001b[1;32m--> 288\u001b[1;33m         \u001b[1;32mfor\u001b[0m \u001b[0mx\u001b[0m\u001b[1;33m,\u001b[0m \u001b[0my\u001b[0m \u001b[1;32min\u001b[0m \u001b[0mdata_generator\u001b[0m\u001b[1;33m.\u001b[0m\u001b[0mget_evaluation_data\u001b[0m\u001b[1;33m(\u001b[0m\u001b[0mbatch_size\u001b[0m\u001b[1;33m)\u001b[0m\u001b[1;33m:\u001b[0m\u001b[1;33m\u001b[0m\u001b[1;33m\u001b[0m\u001b[0m\n\u001b[0m\u001b[0;32m    289\u001b[0m             \u001b[1;32mif\u001b[0m \u001b[0mx\u001b[0m \u001b[1;32mis\u001b[0m \u001b[1;32mNone\u001b[0m\u001b[1;33m:\u001b[0m\u001b[1;33m\u001b[0m\u001b[1;33m\u001b[0m\u001b[0m\n\u001b[0;32m    290\u001b[0m                 \u001b[0mself\u001b[0m\u001b[1;33m.\u001b[0m\u001b[0m_save_images\u001b[0m\u001b[1;33m(\u001b[0m\u001b[0mrestored\u001b[0m\u001b[1;33m,\u001b[0m \u001b[0msave_dir\u001b[0m\u001b[1;33m,\u001b[0m \u001b[0mfile_number\u001b[0m\u001b[1;33m)\u001b[0m\u001b[1;33m\u001b[0m\u001b[1;33m\u001b[0m\u001b[0m\n",
      "\u001b[1;32mc:\\Projects\\Haosheng\\FluoMicro_Denoising\\n2v.py\u001b[0m in \u001b[0;36mget_evaluation_data\u001b[1;34m(self, batch_size)\u001b[0m\n\u001b[0;32m    184\u001b[0m         '''\n\u001b[0;32m    185\u001b[0m         \u001b[0mnoisy_images\u001b[0m\u001b[1;33m,\u001b[0m \u001b[0mclean_images\u001b[0m \u001b[1;33m=\u001b[0m \u001b[1;33m[\u001b[0m\u001b[1;33m]\u001b[0m\u001b[1;33m,\u001b[0m \u001b[1;33m[\u001b[0m\u001b[1;33m]\u001b[0m\u001b[1;33m\u001b[0m\u001b[1;33m\u001b[0m\u001b[0m\n\u001b[1;32m--> 186\u001b[1;33m         \u001b[1;32mfor\u001b[0m \u001b[0mnoisy\u001b[0m\u001b[1;33m,\u001b[0m \u001b[0mclean\u001b[0m \u001b[1;32min\u001b[0m \u001b[0mself\u001b[0m\u001b[1;33m.\u001b[0m\u001b[0m_get_noisy_clean\u001b[0m\u001b[1;33m(\u001b[0m\u001b[1;33m)\u001b[0m\u001b[1;33m:\u001b[0m\u001b[1;33m\u001b[0m\u001b[1;33m\u001b[0m\u001b[0m\n\u001b[0m\u001b[0;32m    187\u001b[0m             \u001b[1;32mif\u001b[0m \u001b[0mnoisy\u001b[0m \u001b[1;32mis\u001b[0m \u001b[1;32mNone\u001b[0m\u001b[1;33m:\u001b[0m\u001b[1;33m\u001b[0m\u001b[1;33m\u001b[0m\u001b[0m\n\u001b[0;32m    188\u001b[0m                 \u001b[1;32mif\u001b[0m \u001b[0mnoisy_images\u001b[0m\u001b[1;33m:\u001b[0m\u001b[1;33m\u001b[0m\u001b[1;33m\u001b[0m\u001b[0m\n",
      "\u001b[1;32mc:\\Projects\\Haosheng\\FluoMicro_Denoising\\n2v.py\u001b[0m in \u001b[0;36m_get_noisy_clean\u001b[1;34m(self)\u001b[0m\n\u001b[0;32m    231\u001b[0m \u001b[1;33m\u001b[0m\u001b[0m\n\u001b[0;32m    232\u001b[0m                             \u001b[0mnoisy\u001b[0m \u001b[1;33m=\u001b[0m \u001b[0mself\u001b[0m\u001b[1;33m.\u001b[0m\u001b[0m_normalization\u001b[0m\u001b[1;33m(\u001b[0m\u001b[0mnoisy\u001b[0m\u001b[1;33m)\u001b[0m\u001b[1;33m\u001b[0m\u001b[1;33m\u001b[0m\u001b[0m\n\u001b[1;32m--> 233\u001b[1;33m                             \u001b[0mclean\u001b[0m \u001b[1;33m=\u001b[0m \u001b[0mself\u001b[0m\u001b[1;33m.\u001b[0m\u001b[0m_normalization\u001b[0m\u001b[1;33m(\u001b[0m\u001b[0mclean\u001b[0m\u001b[1;33m)\u001b[0m\u001b[1;33m\u001b[0m\u001b[1;33m\u001b[0m\u001b[0m\n\u001b[0m\u001b[0;32m    234\u001b[0m                             \u001b[1;32myield\u001b[0m \u001b[0mnoisy\u001b[0m\u001b[1;33m,\u001b[0m \u001b[0mclean\u001b[0m\u001b[1;33m\u001b[0m\u001b[1;33m\u001b[0m\u001b[0m\n\u001b[0;32m    235\u001b[0m                             \u001b[0mcounter\u001b[0m\u001b[1;33m+=\u001b[0m\u001b[1;36m1\u001b[0m\u001b[1;33m\u001b[0m\u001b[1;33m\u001b[0m\u001b[0m\n",
      "\u001b[1;32mc:\\Projects\\Haosheng\\FluoMicro_Denoising\\n2v.py\u001b[0m in \u001b[0;36m_normalization\u001b[1;34m(self, image, percent_left, percent_right)\u001b[0m\n\u001b[0;32m    267\u001b[0m         \u001b[1;34m'''Return the image array normalized to 01 interval'''\u001b[0m\u001b[1;33m\u001b[0m\u001b[1;33m\u001b[0m\u001b[0m\n\u001b[0;32m    268\u001b[0m         \u001b[1;31m# test 调整亮度对比度，作为预处理的步骤之一\u001b[0m\u001b[1;33m\u001b[0m\u001b[1;33m\u001b[0m\u001b[0m\n\u001b[1;32m--> 269\u001b[1;33m         \u001b[0mhistogram\u001b[0m\u001b[1;33m=\u001b[0m\u001b[0mnp\u001b[0m\u001b[1;33m.\u001b[0m\u001b[0msort\u001b[0m\u001b[1;33m(\u001b[0m\u001b[0mimage\u001b[0m\u001b[1;33m.\u001b[0m\u001b[0mflatten\u001b[0m\u001b[1;33m(\u001b[0m\u001b[1;33m)\u001b[0m\u001b[1;33m)\u001b[0m\u001b[1;33m\u001b[0m\u001b[1;33m\u001b[0m\u001b[0m\n\u001b[0m\u001b[0;32m    270\u001b[0m         \u001b[0mn\u001b[0m\u001b[1;33m=\u001b[0m\u001b[0mhistogram\u001b[0m\u001b[1;33m[\u001b[0m\u001b[0mint\u001b[0m\u001b[1;33m(\u001b[0m\u001b[0mpercent_left\u001b[0m\u001b[1;33m*\u001b[0m\u001b[0mlen\u001b[0m\u001b[1;33m(\u001b[0m\u001b[0mhistogram\u001b[0m\u001b[1;33m)\u001b[0m\u001b[1;33m)\u001b[0m\u001b[1;33m]\u001b[0m\u001b[1;33m\u001b[0m\u001b[1;33m\u001b[0m\u001b[0m\n\u001b[0;32m    271\u001b[0m         \u001b[0mm\u001b[0m\u001b[1;33m=\u001b[0m\u001b[0mhistogram\u001b[0m\u001b[1;33m[\u001b[0m\u001b[1;33m-\u001b[0m\u001b[0mint\u001b[0m\u001b[1;33m(\u001b[0m\u001b[0mpercent_right\u001b[0m\u001b[1;33m*\u001b[0m\u001b[0mlen\u001b[0m\u001b[1;33m(\u001b[0m\u001b[0mhistogram\u001b[0m\u001b[1;33m)\u001b[0m\u001b[1;33m)\u001b[0m\u001b[1;33m]\u001b[0m\u001b[1;33m\u001b[0m\u001b[1;33m\u001b[0m\u001b[0m\n",
      "\u001b[1;32m<__array_function__ internals>\u001b[0m in \u001b[0;36msort\u001b[1;34m(*args, **kwargs)\u001b[0m\n",
      "\u001b[1;32mC:\\ProgramData\\Anaconda3\\envs\\mlearning\\lib\\site-packages\\numpy\\core\\fromnumeric.py\u001b[0m in \u001b[0;36msort\u001b[1;34m(a, axis, kind, order)\u001b[0m\n\u001b[0;32m    996\u001b[0m     \u001b[1;32melse\u001b[0m\u001b[1;33m:\u001b[0m\u001b[1;33m\u001b[0m\u001b[1;33m\u001b[0m\u001b[0m\n\u001b[0;32m    997\u001b[0m         \u001b[0ma\u001b[0m \u001b[1;33m=\u001b[0m \u001b[0masanyarray\u001b[0m\u001b[1;33m(\u001b[0m\u001b[0ma\u001b[0m\u001b[1;33m)\u001b[0m\u001b[1;33m.\u001b[0m\u001b[0mcopy\u001b[0m\u001b[1;33m(\u001b[0m\u001b[0morder\u001b[0m\u001b[1;33m=\u001b[0m\u001b[1;34m\"K\"\u001b[0m\u001b[1;33m)\u001b[0m\u001b[1;33m\u001b[0m\u001b[1;33m\u001b[0m\u001b[0m\n\u001b[1;32m--> 998\u001b[1;33m     \u001b[0ma\u001b[0m\u001b[1;33m.\u001b[0m\u001b[0msort\u001b[0m\u001b[1;33m(\u001b[0m\u001b[0maxis\u001b[0m\u001b[1;33m=\u001b[0m\u001b[0maxis\u001b[0m\u001b[1;33m,\u001b[0m \u001b[0mkind\u001b[0m\u001b[1;33m=\u001b[0m\u001b[0mkind\u001b[0m\u001b[1;33m,\u001b[0m \u001b[0morder\u001b[0m\u001b[1;33m=\u001b[0m\u001b[0morder\u001b[0m\u001b[1;33m)\u001b[0m\u001b[1;33m\u001b[0m\u001b[1;33m\u001b[0m\u001b[0m\n\u001b[0m\u001b[0;32m    999\u001b[0m     \u001b[1;32mreturn\u001b[0m \u001b[0ma\u001b[0m\u001b[1;33m\u001b[0m\u001b[1;33m\u001b[0m\u001b[0m\n\u001b[0;32m   1000\u001b[0m \u001b[1;33m\u001b[0m\u001b[0m\n",
      "\u001b[1;31mKeyboardInterrupt\u001b[0m: "
     ]
    }
   ],
   "source": [
    "unet.model.load_weights(\"ckpt/best\")\n",
    "result=unet.evaluate(n2v_data_generator, divide=1, save_dir=None)\n",
    "ssim=np.array(result['ssim'])\n",
    "psnr=np.array(result['psnr'])\n",
    "old_ssim=np.array(result['old_ssim'])\n",
    "old_psnr=np.array(result['old_psnr'])\n",
    "print(result['duration'])\n",
    "print('ssim:',ssim.mean(),'\\tpsnr:', psnr.mean())\n",
    "print('old_ssim:',old_ssim.mean(),'\\told_psnr:', old_psnr.mean())"
   ]
  },
  {
   "cell_type": "code",
   "execution_count": 9,
   "metadata": {},
   "outputs": [
    {
     "data": {
      "text/plain": [
       "<matplotlib.legend.Legend at 0x2687f3ca9a0>"
      ]
     },
     "execution_count": 9,
     "metadata": {},
     "output_type": "execute_result"
    },
    {
     "data": {
      "image/png": "[encoded data removed]",
      "text/plain": [
       "<Figure size 432x288 with 1 Axes>"
      ]
     },
     "metadata": {
      "needs_background": "light"
     },
     "output_type": "display_data"
    }
   ],
   "source": [
    "loss=history.history['loss']\n",
    "val_loss=history.history['val_loss']\n",
    "import matplotlib.pyplot as plt\n",
    "epochs=range(len(loss))\n",
    "plt.plot(loss,label='loss')\n",
    "plt.plot(val_loss,label='val_loss')\n",
    "plt.xlabel(\"epoch\")\n",
    "plt.legend()\n"
   ]
  }
 ],
 "metadata": {
  "interpreter": {
   "hash": "b058cf24618cd82b4bbbe186945fd3628430aa4c500c2913535f002801917341"
  },
  "kernelspec": {
   "display_name": "Python 3.9.12 ('fyp')",
   "language": "python",
   "name": "python3"
  },
  "language_info": {
   "codemirror_mode": {
    "name": "ipython",
    "version": 3
   },
   "file_extension": ".py",
   "mimetype": "text/x-python",
   "name": "python",
   "nbconvert_exporter": "python",
   "pygments_lexer": "ipython3",
   "version": "3.9.7"
  },
  "orig_nbformat": 4
 },
 "nbformat": 4,
 "nbformat_minor": 2
}
