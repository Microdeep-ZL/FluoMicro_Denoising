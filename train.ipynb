{
 "cells": [
  {
   "cell_type": "code",
   "execution_count": null,
   "metadata": {},
   "outputs": [],
   "source": [
    "from unet import Unet\n",
    "from n2v import N2VConfig, N2VDataGenerator\n",
    "from os.path import join\n",
    "\n",
    "dataset_dir = 'D:\\Project\\FYP\\dataset'\n",
    "datasets = [\"mito-60x-noise1-lowsnr.tif\",\n",
    "            \"actin-confocal-lowsnr.tif\",\n",
    "            \"actin-60x-noise1-lowsnr.tif\"]\n",
    "file_paths = [join(dataset_dir, dataset) for dataset in datasets]\n",
    "\n",
    "config = N2VConfig(file_paths, patch_shape=(128, 128),\n",
    "                   validation_split=0.05,\n",
    "                   patches_per_batch=32,\n",
    "                   data_augmentation=False,\n",
    "                   epochs=3)\n",
    "n2v_data_generator = N2VDataGenerator(config)\n",
    "unet = Unet(config)"
   ]
  },
  {
   "cell_type": "code",
   "execution_count": null,
   "metadata": {},
   "outputs": [],
   "source": [
    "history = unet.train(n2v_data_generator)"
   ]
  }
 ],
 "metadata": {
  "language_info": {
   "name": "python"
  },
  "orig_nbformat": 4
 },
 "nbformat": 4,
 "nbformat_minor": 2
}
